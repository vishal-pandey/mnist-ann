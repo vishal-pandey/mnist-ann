{
  "nbformat": 4,
  "nbformat_minor": 0,
  "metadata": {
    "colab": {
      "name": "mlp.ipynb",
      "version": "0.3.2",
      "provenance": [],
      "collapsed_sections": []
    },
    "kernelspec": {
      "name": "python3",
      "display_name": "Python 3"
    }
  },
  "cells": [
    {
      "cell_type": "code",
      "metadata": {
        "id": "LSX4Zk1Y33Dc",
        "colab_type": "code",
        "colab": {
          "base_uri": "https://localhost:8080/",
          "height": 34
        },
        "outputId": "a816e965-5848-4f27-ab64-ff1acfe56c45"
      },
      "source": [
        "from keras.datasets import mnist\n",
        "import numpy as np\n",
        "import matplotlib.pyplot as plt\n",
        "import math"
      ],
      "execution_count": 1,
      "outputs": [
        {
          "output_type": "stream",
          "text": [
            "Using TensorFlow backend.\n"
          ],
          "name": "stderr"
        }
      ]
    },
    {
      "cell_type": "code",
      "metadata": {
        "id": "51b86fJI4FbQ",
        "colab_type": "code",
        "colab": {}
      },
      "source": [
        "(x_train, y_train), (x_test, y_test) = mnist.load_data()"
      ],
      "execution_count": 0,
      "outputs": []
    },
    {
      "cell_type": "code",
      "metadata": {
        "id": "vab0T9-R4Vdd",
        "colab_type": "code",
        "colab": {}
      },
      "source": [
        "x_train = np.asarray([e.flatten()/255 for e in x_train])\n",
        "x_test = np.asarray([e.flatten()/255 for e in x_test])"
      ],
      "execution_count": 0,
      "outputs": []
    },
    {
      "cell_type": "code",
      "metadata": {
        "id": "M3M0Yxbh7xO9",
        "colab_type": "code",
        "colab": {}
      },
      "source": [
        "def sigmoid(z):\n",
        "  x = []\n",
        "  for i in z:\n",
        "    try:\n",
        "      x.append(1/(1+np.exp(-i[0])))\n",
        "    except OverflowError:\n",
        "      print(i)\n",
        "      break\n",
        "      return\n",
        "  return np.asarray(x)\n",
        "\n",
        "def oneHotEncoder(x):\n",
        "  return np.asarray([int(x == e) for e in range(10)])\n",
        "\n",
        "def square(z):\n",
        "  x = []\n",
        "  for i in z:\n",
        "    x.append(i*i)\n",
        "  return np.asarray(x)\n",
        "  \n",
        "\n",
        "def result_test(i):\n",
        "  return list(sigmoid(x_test[i]@w[:])).index(max(sigmoid(x_test[i]@w[:])))\n",
        "  \n",
        "learning_rate = 0.005"
      ],
      "execution_count": 0,
      "outputs": []
    },
    {
      "cell_type": "code",
      "metadata": {
        "id": "Bgt810pX4vMs",
        "colab_type": "code",
        "colab": {}
      },
      "source": [
        "w = np.random.random((10, 784, 1))"
      ],
      "execution_count": 0,
      "outputs": []
    },
    {
      "cell_type": "code",
      "metadata": {
        "id": "svvU1qqi43pV",
        "colab_type": "code",
        "colab": {
          "base_uri": "https://localhost:8080/",
          "height": 34
        },
        "outputId": "dfa37158-5ac4-49df-e4b8-0d0a8897aca7"
      },
      "source": [
        "w.shape"
      ],
      "execution_count": 6,
      "outputs": [
        {
          "output_type": "execute_result",
          "data": {
            "text/plain": [
              "(10, 784, 1)"
            ]
          },
          "metadata": {
            "tags": []
          },
          "execution_count": 6
        }
      ]
    },
    {
      "cell_type": "code",
      "metadata": {
        "id": "5reHuHtrRSzC",
        "colab_type": "code",
        "colab": {}
      },
      "source": [
        "# sigmoid(x_train[0]@w[:])"
      ],
      "execution_count": 0,
      "outputs": []
    },
    {
      "cell_type": "code",
      "metadata": {
        "id": "mlBy4g5747a8",
        "colab_type": "code",
        "colab": {}
      },
      "source": [
        "# square(oneHotEncoder(y_train[0]) - sigmoid(x_train[0]@w[:]))"
      ],
      "execution_count": 0,
      "outputs": []
    },
    {
      "cell_type": "code",
      "metadata": {
        "id": "vq8TBvcj5BrO",
        "colab_type": "code",
        "colab": {}
      },
      "source": [
        "# w[0]+(learning_rate * x_train[0] * (oneHotEncoder(y_train[0]) - sigmoid(x_train[0]@w[:]))[0]).reshape((784,1))"
      ],
      "execution_count": 0,
      "outputs": []
    },
    {
      "cell_type": "code",
      "metadata": {
        "id": "U_4HodXP7H5x",
        "colab_type": "code",
        "colab": {}
      },
      "source": [
        "# w[0]"
      ],
      "execution_count": 0,
      "outputs": []
    },
    {
      "cell_type": "code",
      "metadata": {
        "id": "L5dGolCA90Wl",
        "colab_type": "code",
        "colab": {}
      },
      "source": [
        "# (w[0] + (learning_rate * x_train[0] * -1).reshape((784,1)))"
      ],
      "execution_count": 0,
      "outputs": []
    },
    {
      "cell_type": "code",
      "metadata": {
        "id": "9O_ChRa299fo",
        "colab_type": "code",
        "colab": {
          "base_uri": "https://localhost:8080/",
          "height": 54
        },
        "outputId": "4d0ae1bd-d75a-4b29-e3d9-2114d2630f50"
      },
      "source": [
        "progress = 0\n",
        "for i in range(len(x_train)):\n",
        "  for j in range(len(w)):\n",
        "    w[j]+=(learning_rate * x_train[i] * (oneHotEncoder(y_train[i]) - sigmoid(x_train[i]@w[:]))[j]).reshape((784,1))\n",
        "  if progress < i/len(x_train)*100:\n",
        "    progress += 1\n",
        "    print(progress, end=\" \")"
      ],
      "execution_count": 12,
      "outputs": [
        {
          "output_type": "stream",
          "text": [
            "1 2 3 4 5 6 7 8 9 10 11 12 13 14 15 16 17 18 19 20 21 22 23 24 25 26 27 28 29 30 31 32 33 34 35 36 37 38 39 40 41 42 43 44 45 46 47 48 49 50 51 52 53 54 55 56 57 58 59 60 61 62 63 64 65 66 67 68 69 70 71 72 73 74 75 76 77 78 79 80 81 82 83 84 85 86 87 88 89 90 91 92 93 94 95 96 97 98 99 100 "
          ],
          "name": "stdout"
        }
      ]
    },
    {
      "cell_type": "code",
      "metadata": {
        "id": "A8XJWwsH_SIR",
        "colab_type": "code",
        "colab": {
          "base_uri": "https://localhost:8080/",
          "height": 34
        },
        "outputId": "37cb5c96-b34a-4149-d3cb-bbc503a5a167"
      },
      "source": [
        "result_test(0)"
      ],
      "execution_count": 23,
      "outputs": [
        {
          "output_type": "execute_result",
          "data": {
            "text/plain": [
              "7"
            ]
          },
          "metadata": {
            "tags": []
          },
          "execution_count": 23
        }
      ]
    },
    {
      "cell_type": "code",
      "metadata": {
        "id": "TX9uNk1F_SDP",
        "colab_type": "code",
        "colab": {
          "base_uri": "https://localhost:8080/",
          "height": 34
        },
        "outputId": "2f371c87-096b-4b63-fc4f-2d50cb8fc22d"
      },
      "source": [
        "y_test[0]"
      ],
      "execution_count": 27,
      "outputs": [
        {
          "output_type": "execute_result",
          "data": {
            "text/plain": [
              "7"
            ]
          },
          "metadata": {
            "tags": []
          },
          "execution_count": 27
        }
      ]
    },
    {
      "cell_type": "code",
      "metadata": {
        "id": "U2BMNJFMDWmm",
        "colab_type": "code",
        "colab": {
          "base_uri": "https://localhost:8080/",
          "height": 286
        },
        "outputId": "c53d1f7f-cf1f-4497-ffa7-3d107f7bcb60"
      },
      "source": [
        "plt.imshow(x_test[0].reshape(28, 28))"
      ],
      "execution_count": 26,
      "outputs": [
        {
          "output_type": "execute_result",
          "data": {
            "text/plain": [
              "<matplotlib.image.AxesImage at 0x7f663144e198>"
            ]
          },
          "metadata": {
            "tags": []
          },
          "execution_count": 26
        },
        {
          "output_type": "display_data",
          "data": {
            "image/png": "[encoded data removed]",
            "text/plain": [
              "<Figure size 432x288 with 1 Axes>"
            ]
          },
          "metadata": {
            "tags": []
          }
        }
      ]
    },
    {
      "cell_type": "code",
      "metadata": {
        "id": "3S0jSP8QiwH5",
        "colab_type": "code",
        "colab": {
          "base_uri": "https://localhost:8080/",
          "height": 34
        },
        "outputId": "9be74736-bab5-4fb0-cc9f-797fa4d23525"
      },
      "source": [
        "acuracy = 0\n",
        "for i in range(len(x_test)):\n",
        "  if result_test(i) == y_test[i]:\n",
        "    acuracy += 1\n",
        "    \n",
        "    \n",
        "print(\"Accuracy \", acuracy/len(x_test))"
      ],
      "execution_count": 28,
      "outputs": [
        {
          "output_type": "stream",
          "text": [
            "Accuracy  0.8927\n"
          ],
          "name": "stdout"
        }
      ]
    },
    {
      "cell_type": "code",
      "metadata": {
        "id": "m31oofhojPC8",
        "colab_type": "code",
        "colab": {}
      },
      "source": [
        ""
      ],
      "execution_count": 0,
      "outputs": []
    }
  ]
}